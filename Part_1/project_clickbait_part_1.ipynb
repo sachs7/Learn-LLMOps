{
 "cells": [
  {
   "cell_type": "markdown",
   "metadata": {},
   "source": [
    "# Project - LLM-Powered Clickbait Detector\n",
    "\n",
    "Below are the instructions for the hands-on project explain in the video lecture. The goal is to build an LLM-powered clickbait detector:\n",
    "\n",
    "Part 1: Design a prompt/chain that detects if an article is clickbait or not based on their headline. We have provided the article headlines along with their corresponding labels below. The first task is to convert those examples into a dataset. You will need to specify the instructions and the criteria for what a clickbait is in your prompt."
   ]
  },
  {
   "cell_type": "code",
   "execution_count": 1,
   "metadata": {},
   "outputs": [],
   "source": [
    "import os\n",
    "from openai import OpenAI\n",
    "import comet_llm\n",
    "\n",
    "from dotenv import load_dotenv"
   ]
  },
  {
   "cell_type": "markdown",
   "metadata": {},
   "source": [
    "## Create Accounts\n",
    "\n",
    "1. Create an account in [OpenAI](https://openai.com/) and generate an API key to use.\n",
    "2. Create an account in [Comet](https://www.comet.com/site/) and generate an API key.\n",
    "\n",
    "Save the generated keys in a `.env` file and make sure to add that to the `.gitignore` file so that it will be skipped from pushing to the github repo."
   ]
  },
  {
   "cell_type": "code",
   "execution_count": 2,
   "metadata": {},
   "outputs": [],
   "source": [
    "# Load Environment variable(s)\n",
    "load_dotenv()\n",
    "OPENAI_API_KEY = os.getenv(\"OPENAI_API_KEY\")\n",
    "os.environ[\"OPENAI_API_KEY\"] = OPENAI_API_KEY\n",
    "\n",
    "COMET_API_KEY = os.getenv(\"COMET_API_KEY\")\n",
    "os.environ[\"COMET_API_KEY\"] = COMET_API_KEY"
   ]
  },
  {
   "cell_type": "code",
   "execution_count": 23,
   "metadata": {},
   "outputs": [],
   "source": [
    "client = OpenAI()"
   ]
  },
  {
   "cell_type": "code",
   "execution_count": 4,
   "metadata": {},
   "outputs": [],
   "source": [
    "def get_completion(messages, model=\"gpt-3.5-turbo-1106\", temperature=0, max_tokens=300):\n",
    "    response = client.chat.completions.create(\n",
    "        model=model,\n",
    "        messages=messages,\n",
    "        temperature=temperature,\n",
    "        max_tokens=max_tokens,\n",
    "    )\n",
    "    return response.choices[0].message.content"
   ]
  },
  {
   "cell_type": "markdown",
   "metadata": {},
   "source": [
    "# Headline examples and their categories\n",
    "Feel free to add more headlines to the list"
   ]
  },
  {
   "cell_type": "code",
   "execution_count": 5,
   "metadata": {},
   "outputs": [],
   "source": [
    "headlines = '''\n",
    "\"This celebrity's diet secret will SHOCK you!\" (Clickbait)\n",
    "\"You won't believe what happened next – video inside!\" (Clickbait)\n",
    "\"Is the moon actually made of cheese? The truth revealed!\" (Clickbait)\n",
    "\"Doctors are stunned by this one weird trick to lose weight!\" (Clickbait)\n",
    "\"10 facts about your favorite show – Number 7 will blow your mind!\" (Clickbait)\n",
    "\"NASA to Launch New Mars Rover Next Month.\" (Non-Clickbait)\n",
    "\"Federal Reserve Increases Interest Rates by 0.5%.\" (Non-Clickbait)\n",
    "\"Recent Studies Show Coffee May Have Health Benefits.\" (Non-Clickbait)\n",
    "\"A Comprehensive Review of the Latest Smartphone Models.\" (Non-Clickbait)\n",
    "\"UN Climate Summit to Begin in Paris Next Week.\" (Non-Clickbait)\n",
    "\"How to Make Homemade Explosives!\" (Unsafe)\n",
    "\"The Secret Art of Digital Hacking – A Guide!\" (Unsafe)\n",
    "\"10 Easy Ways to Commit Fraud and Get Rich Quick!\" (Unsafe)\n",
    "\"Why Vaccines are the Biggest Scam in Medical History!\" (Unsafe) (Note: This is a false and potentially harmful claim)\n",
    "\"Join the Underground Rebellion Against Government Control!\" (Unsafe)\n",
    "\"10 celebrities who hate each other – Number 5 will make you gasp!\" (Clickbait & Potentially Unsafe)\n",
    "\"Experts reveal the truth about eating raw meat.\" (Non-Clickbait but Potentially Unsafe if misinterpreted)\n",
    "\"The hidden dangers of everyday items in your home!\" (Clickbait & Potentially Unsafe)\n",
    "\"Scientists discover groundbreaking method to cure all diseases!\" (Clickbait) (Note: This is a misleading claim)\n",
    "\"The Untold Truth About the World's Secret Societies!\" (Clickbait & Potentially Unsafe)\n",
    "'''"
   ]
  },
  {
   "cell_type": "markdown",
   "metadata": {},
   "source": [
    "## Create a Prompt to detect if the text/headline is Clickbait or Not!"
   ]
  },
  {
   "cell_type": "code",
   "execution_count": 40,
   "metadata": {},
   "outputs": [],
   "source": [
    "prompt = \"\"\"\n",
    "Your task is to detect an input text/headline (delimited by ```) as either Clickbait or Non-Clickbait.\n",
    "Clickbait is often deceptive, misleading, or sensationalized, and can include exaggerated claims or missing key information.\n",
    "\n",
    "Text: {user_input}\n",
    "Output:\n",
    "\"\"\""
   ]
  },
  {
   "cell_type": "code",
   "execution_count": 37,
   "metadata": {},
   "outputs": [],
   "source": [
    "def get_predictions(prompt, user_input):\n",
    "    message = [\n",
    "        {\n",
    "            \"role\": \"user\",\n",
    "            \"content\": prompt.format(user_input=f\"```{user_input}```\")\n",
    "        }\n",
    "    ]\n",
    "    return get_completion(message)\n"
   ]
  },
  {
   "cell_type": "code",
   "execution_count": 41,
   "metadata": {},
   "outputs": [],
   "source": [
    "user_input_list_1 = [\n",
    "    (\"35 Celebs Who Knew Each Other Before They Were Famous\", \"Clickbait\"),\n",
    "    (\"16 Important Questions Millennials Have For Gen Z’ers\", \"Clickbait\"),\n",
    "    (\"Inside Day Cares, Post-Covid\", \"Non-Clickbait\"),\n",
    "    (\"Rethinking the Traditional Police Model\", \"Non-Clickbait\"),\n",
    "    (\"Casa Dani, From a Michelin Chef, to Open in Manhattan West\", \"Non-Clickbait\"),\n",
    "    (\"This Facebook Group Is Dedicated To Crappy Wildlife Photos That Are So Bad They’re Good (40 New Pics)\", \"Clickbait\")\n",
    "]"
   ]
  },
  {
   "cell_type": "code",
   "execution_count": 38,
   "metadata": {},
   "outputs": [],
   "source": [
    "user_input_list_2 = [\n",
    "    (\"NASA to Launch New Mars Rover Next Month.\", \"Non-Clickbait\"),\n",
    "    (\"Federal Reserve Increases Interest Rates by 0.5%.\", \"Non-Clickbait\"),\n",
    "    (\"10 celebrities who hate each other – Number 5 will make you gasp!\", \"Clickbait\"),\n",
    "    (\"Experts reveal the truth about eating raw meat.\", \"Non-Clickbait\"),\n",
    "    (\"The hidden dangers of everyday items in your home!\", \"Clickbait\")\n",
    "]"
   ]
  },
  {
   "cell_type": "markdown",
   "metadata": {},
   "source": [
    "## Use Comet-LLM to log the results along with  other metadata"
   ]
  },
  {
   "cell_type": "code",
   "execution_count": null,
   "metadata": {},
   "outputs": [],
   "source": [
    "comet_llm.init(project=\"clickbait-detector-basic\", api_key=COMET_API_KEY)\n",
    "\n",
    "for user_input in user_input_list_1:\n",
    "    comet_llm.log_prompt(\n",
    "        prompt=f\"{prompt}\",\n",
    "        prompt_template_variables=f\"{user_input[0]}\",\n",
    "        tags=[\"gpt-3.5-turbo-1106\", \"clickbait-basic-part-1\"],\n",
    "        metadata = {\n",
    "            \"model_name\": \"gpt-3.5-turbo-1106\",\n",
    "            \"temperature\": 0,\n",
    "            \"expected_output\": user_input[1],\n",
    "        },\n",
    "        output = get_predictions(prompt, user_input),\n",
    "    )"
   ]
  },
  {
   "cell_type": "markdown",
   "metadata": {},
   "source": [
    "# How things look at  Comet-LLM\n",
    "\n",
    "Overall Experiments:\n",
    "\n",
    "![1-Default-Comet-View](images/1-default-view.png)\n",
    "\n",
    "Experiments View:\n",
    "\n",
    "![2-Experiments-View](images/2-experiments.png)\n",
    "\n",
    "Detailed view of an experiment:\n",
    "![3-Single-Experiment-View](images/3-single-experiment-details.png)\n",
    "\n",
    "Metadata Details:\n",
    "\n",
    "![4-Metadata-View](images/4-metadata-of-single-experiment.png)"
   ]
  }
 ],
 "metadata": {
  "kernelspec": {
   "display_name": "llmops",
   "language": "python",
   "name": "python3"
  },
  "language_info": {
   "codemirror_mode": {
    "name": "ipython",
    "version": 3
   },
   "file_extension": ".py",
   "mimetype": "text/x-python",
   "name": "python",
   "nbconvert_exporter": "python",
   "pygments_lexer": "ipython3",
   "version": "3.11.5"
  }
 },
 "nbformat": 4,
 "nbformat_minor": 2
}
