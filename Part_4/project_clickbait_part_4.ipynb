{
 "cells": [
  {
   "cell_type": "markdown",
   "metadata": {},
   "source": [
    "# Project - LLM-Powered Clickbait Detector\n",
    "\n",
    "Part 4: In the end, the goal should be to create a tagging system to label a set of articles as either safe/unsafe and clickbait/not clickbait. If the headline is unsafe or a clickbait, use GPT-3.5-Turbo or GPT-4 to rewrite the article as safe and that it doesn't contain clickbait. You can also try to log the results to Comet to properly debug and evaluate the results."
   ]
  },
  {
   "cell_type": "code",
   "execution_count": 1,
   "metadata": {},
   "outputs": [],
   "source": [
    "import os\n",
    "import comet_llm\n",
    "\n",
    "from openai import OpenAI\n",
    "from dotenv import load_dotenv"
   ]
  },
  {
   "cell_type": "code",
   "execution_count": 2,
   "metadata": {},
   "outputs": [],
   "source": [
    "# Load Environment variable(s)\n",
    "load_dotenv()\n",
    "OPENAI_API_KEY = os.getenv(\"OPENAI_API_KEY\")\n",
    "os.environ[\"OPENAI_API_KEY\"] = OPENAI_API_KEY\n",
    "\n",
    "COMET_API_KEY = os.getenv(\"COMET_API_KEY\")\n",
    "os.environ[\"COMET_API_KEY\"] = COMET_API_KEY"
   ]
  },
  {
   "cell_type": "code",
   "execution_count": 3,
   "metadata": {},
   "outputs": [],
   "source": [
    "client = OpenAI(max_retries=10)"
   ]
  },
  {
   "cell_type": "code",
   "execution_count": 4,
   "metadata": {},
   "outputs": [],
   "source": [
    "def get_completion(messages, model=\"gpt-3.5-turbo-1106\", temperature=0, max_tokens=300):\n",
    "    response = client.chat.completions.create(\n",
    "        model=model,\n",
    "        messages=messages,\n",
    "        temperature=temperature,\n",
    "        max_tokens=max_tokens,\n",
    "    )\n",
    "    return response.choices[0].message.content"
   ]
  },
  {
   "cell_type": "code",
   "execution_count": 23,
   "metadata": {},
   "outputs": [],
   "source": [
    "# Few-Shot Template\n",
    "\n",
    "few_shot_system_message = \"\"\"\n",
    "Identify the category of the following text:\n",
    "\n",
    "Clickbait/Non-Clickbait: Is the text intended to sensationalize and attract clicks rather than inform?\n",
    "Safe/Unsafe: Does the text contain potentially harmful information or promote harmful actions?\n",
    "\n",
    "The user input is delimited by ```\n",
    "\n",
    "Your response should ONLY be from the list: [\"Clickbait\", \"Non-Clickbait\", \"Safe\", \"Unsafe\"]\n",
    "\n",
    "Use the following examples to help with steering your respones:\n",
    "\n",
    "Text: The Untold Truth About the World's Secret Societies!\n",
    "Output: Clickbait, Unsafe\n",
    "\n",
    "Text: Inside Day Cares, Post-Covid\n",
    "Output: Non-Clickbait\n",
    "\n",
    "Text: 10 celebrities who hate each other - Number 5 will make you gasp!\n",
    "Output: Clickbait, Unsafe\n",
    "\n",
    "Text: Rethinking the Traditional Police Model\n",
    "Output: Non-Clickbait\n",
    "\n",
    "\"\"\"\n",
    "\n",
    "user_message = \"\"\"\n",
    "Classify the following text: ```{user_input}```\n",
    "\"\"\""
   ]
  },
  {
   "cell_type": "code",
   "execution_count": 6,
   "metadata": {},
   "outputs": [],
   "source": [
    "def get_predictions(prompt_template, user_input):\n",
    "    message = [\n",
    "        {\n",
    "            'role': 'system',\n",
    "            'content': prompt_template\n",
    "        },\n",
    "        {\n",
    "            'role': 'user',\n",
    "            'content': user_message.format(user_input=user_input)\n",
    "        }\n",
    "    ]\n",
    "    return get_completion(message)"
   ]
  },
  {
   "cell_type": "code",
   "execution_count": 7,
   "metadata": {},
   "outputs": [],
   "source": [
    "headlines = [\n",
    "    (\"You won't believe what happened next - video inside!\", \"Clickbait\"),\n",
    "    (\"Is the moon actually made of cheese? The truth revealed!\", \"Clickbait\"),\n",
    "    (\"Doctors are stunned by this one weird trick to lose weight!\", \"Clickbait\"),\n",
    "    (\"10 facts about your favorite show - Number 7 will blow your mind!\", \"Clickbait\"),\n",
    "    (\"NASA to Launch New Mars Rover Next Month.\", \"Non-Clickbait\"),\n",
    "    (\"Federal Reserve Increases Interest Rates by 0.5%.\", \"Non-Clickbait\"),\n",
    "    (\"Recent Studies Show Coffee May Have Health Benefits.\", \"Non-Clickbait\"),\n",
    "    (\"A Comprehensive Review of the Latest Smartphone Models.\", \"Non-Clickbait\"),\n",
    "    (\"UN Climate Summit to Begin in Paris Next Week.\", \"Non-Clickbait\"),\n",
    "    (\"How to Make Homemade Explosives!\", \"Unsafe\"),\n",
    "    (\"The Secret Art of Digital Hacking - A Guide!\", \"Unsafe\"),\n",
    "    (\"10 Easy Ways to Commit Fraud and Get Rich Quick!\", \"Unsafe\"),\n",
    "    (\"Why Vaccines are the Biggest Scam in Medical History!\", \"Unsafe\"),\n",
    "    (\"Join the Underground Rebellion Against Government Control!\", \"Unsafe\"),\n",
    "    (\"10 celebrities who hate each other - Number 5 will make you gasp!\", \"Clickbait, Potentially Unsafe\"),\n",
    "    (\"Experts reveal the truth about eating raw meat.\", \"Non-Clickbait, Potentially Unsafe\"),\n",
    "    (\"The hidden dangers of everyday items in your home!\", \"Clickbait, Potentially Unsafe\"),\n",
    "    (\"Scientists discover groundbreaking method to cure all diseases!\", \"Clickbait\"),\n",
    "    (\"The Untold Truth About the World's Secret Societies!\", \"Clickbait, Potentially Unsafe\"),\n",
    "]\n",
    "\n",
    "validation = [\n",
    "    (\"35 Celebs Who Knew Each Other Before They Were Famous\", \"Clickbait\"),\n",
    "    (\"16 Important Questions Millennials Have For Gen Z'ers\", \"Clickbait, Safe\"),\n",
    "    (\"Inside Day Cares, Post-Covid\", \"Non-Clickbait\"),\n",
    "    (\"Casa Dani, From a Michelin Chef, to Open in Manhattan West\", \"Non-Clickbait, Safe\"),\n",
    "]"
   ]
  },
  {
   "cell_type": "code",
   "execution_count": 8,
   "metadata": {},
   "outputs": [
    {
     "name": "stdout",
     "output_type": "stream",
     "text": [
      "Chain logged to https://www.comet.com/sachs7/llm-general\n",
      "Clickbait, Unsafe\n"
     ]
    }
   ],
   "source": [
    "print(get_predictions(few_shot_system_message, \"The Untold Truth About the World's Secret Societies!\"))"
   ]
  },
  {
   "cell_type": "code",
   "execution_count": 46,
   "metadata": {},
   "outputs": [],
   "source": [
    "# improve_headline_system_message = \"\"\"\n",
    "# You are an expert who moderates the text/headlines for 'Clickbait' and/or 'Unsafe' content.\n",
    "\n",
    "# If the input text is a 'Clickbait' and/or 'Unsafe', rephrase the text, so that after rephrasing, they are no longer classified as 'Clickbait' and/or 'Unsafe'\n",
    "\n",
    "# Strictly adhere to the following Output format:\n",
    "\n",
    "# Original: <User provided input {text}>\n",
    "\n",
    "# Improved: <Rephrased text if Clickbait and/or Unsafe>\n",
    "# \"\"\"\n",
    "\n",
    "improve_headline_system_message = \"\"\"\n",
    "You are an expert who moderates the text/headlines for 'Clickbait' and/or 'Unsafe' content.\n",
    "\n",
    "If the input text is a 'Clickbait' and/or 'Unsafe', rephrase the text, so that after rephrasing, they are no longer classified as 'Clickbait' and/or 'Unsafe'\n",
    "\n",
    "Return the response in a JSON format with the following fields:\n",
    "\n",
    "original: <User provided input {text}>\n",
    "\n",
    "improved: <Rephrased text if Clickbait and/or Unsafe>\n",
    "\"\"\"\n",
    "\n"
   ]
  },
  {
   "cell_type": "code",
   "execution_count": 42,
   "metadata": {},
   "outputs": [],
   "source": [
    "def rewrite_text_if_clickbait_or_unsafe(user_input):\n",
    "    message = [\n",
    "        {\n",
    "            'role':  'system',\n",
    "            'content': improve_headline_system_message.format(text=user_input)\n",
    "        }\n",
    "    ]\n",
    "    print(f\"Original Query: {user_input}\")\n",
    "    result = get_predictions(few_shot_system_message, user_input)\n",
    "    print(f\"Prediction: {result}\\n\")\n",
    "    return get_completion(message)"
   ]
  },
  {
   "cell_type": "code",
   "execution_count": 35,
   "metadata": {},
   "outputs": [
    {
     "name": "stdout",
     "output_type": "stream",
     "text": [
      "Original Query: UN Climate Summit to Begin in Paris Next Week\n",
      "Prediction: Non-Clickbait, Safe\n",
      "\n",
      "Original: UN Climate Summit to Begin in Paris Next Week\n",
      "\n",
      "Improved: The UN Climate Summit is scheduled to start in Paris next week.\n"
     ]
    }
   ],
   "source": [
    "print(rewrite_text_if_clickbait_or_unsafe(\"UN Climate Summit to Begin in Paris Next Week\"))"
   ]
  },
  {
   "cell_type": "code",
   "execution_count": 47,
   "metadata": {},
   "outputs": [
    {
     "name": "stdout",
     "output_type": "stream",
     "text": [
      "Original Query: The Untold Truth About the World's Secret Societies!\n",
      "Prediction: Clickbait, Unsafe\n",
      "\n",
      "```json\n",
      "{\n",
      "  \"original\": \"The Untold Truth About the World's Secret Societies!\",\n",
      "  \"improved\": \"Exploring the History of Secret Societies Around the World\"\n",
      "}\n",
      "```\n"
     ]
    }
   ],
   "source": [
    "print(rewrite_text_if_clickbait_or_unsafe(\"The Untold Truth About the World's Secret Societies!\"))"
   ]
  },
  {
   "cell_type": "code",
   "execution_count": null,
   "metadata": {},
   "outputs": [],
   "source": [
    "comet_llm.init(project=\"rephrase_part_4\", api_key=COMET_API_KEY)\n",
    "\n",
    "for user_input in validation:\n",
    "    comet_llm.log_prompt(\n",
    "        prompt=f\"{user_input[0]}\",\n",
    "        prompt_template=f\"{improve_headline_system_message}\",\n",
    "        prompt_template_variables=f\"{user_input[0]}\",\n",
    "        tags=[\"gpt-3.5-turbo-1106\", \"rephrase\"],\n",
    "        metadata = {\n",
    "            \"model_name\": \"gpt-3.5-turbo-1106\",\n",
    "            \"temperature\": 0,\n",
    "            \"original_text\": f\"{user_input[0]}\",\n",
    "        },\n",
    "        output = rewrite_text_if_clickbait_or_unsafe(user_input[0]),\n",
    "    )"
   ]
  }
 ],
 "metadata": {
  "kernelspec": {
   "display_name": "llmops",
   "language": "python",
   "name": "python3"
  },
  "language_info": {
   "codemirror_mode": {
    "name": "ipython",
    "version": 3
   },
   "file_extension": ".py",
   "mimetype": "text/x-python",
   "name": "python",
   "nbconvert_exporter": "python",
   "pygments_lexer": "ipython3",
   "version": "3.11.5"
  }
 },
 "nbformat": 4,
 "nbformat_minor": 2
}
