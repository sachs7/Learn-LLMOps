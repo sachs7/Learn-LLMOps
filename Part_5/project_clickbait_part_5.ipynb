{
 "cells": [
  {
   "cell_type": "markdown",
   "metadata": {},
   "source": [
    "# Project - LLM-Powered Clickbait Detector\n",
    "\n",
    "Part 5 (Bonus): Consider fine-tuning a small model like Flan-T5-Base in case performance is not satisfactory for any of the components you have built above. Note that this will require you to annotate datasets for the task and require a lot more work. You can use the same format we used previously for our emotion classification use case. Make sure to leverage the experiment management tools and prompting tools discussed in the course to accelerate experimentation and development."
   ]
  },
  {
   "cell_type": "markdown",
   "metadata": {},
   "source": [
    "Refer to the file: [fine_tune_tranformers_model.ipynb](fine_tune_transformers_model.ipynb)"
   ]
  },
  {
   "cell_type": "markdown",
   "metadata": {},
   "source": [
    "# Gradio App"
   ]
  },
  {
   "cell_type": "code",
   "execution_count": 4,
   "metadata": {},
   "outputs": [
    {
     "name": "stdout",
     "output_type": "stream",
     "text": [
      "Running on local URL:  http://127.0.0.1:7870\n",
      "\n",
      "To create a public link, set `share=True` in `launch()`.\n"
     ]
    },
    {
     "data": {
      "text/html": [
       "<div><iframe src=\"http://127.0.0.1:7870/\" width=\"100%\" height=\"500\" allow=\"autoplay; camera; microphone; clipboard-read; clipboard-write;\" frameborder=\"0\" allowfullscreen></iframe></div>"
      ],
      "text/plain": [
       "<IPython.core.display.HTML object>"
      ]
     },
     "metadata": {},
     "output_type": "display_data"
    },
    {
     "data": {
      "text/plain": []
     },
     "execution_count": 4,
     "metadata": {},
     "output_type": "execute_result"
    }
   ],
   "source": [
    "import gradio as gr\n",
    "from transformers import pipeline\n",
    "from  transformers import AutoTokenizer\n",
    "\n",
    "tokenizer = AutoTokenizer.from_pretrained(\"bert-base-cased\")\n",
    "\n",
    "# Load the text classification pipeline from Hugging Face\n",
    "classifier = pipeline(\"text-classification\", model=\"./clickbait-classifier-model-90\", tokenizer=tokenizer)\n",
    "\n",
    "\n",
    "def classify_text(text):\n",
    "    prediction = classifier(text)[0]\n",
    "    clickbait_label = \"LABEL_1\"  # Assuming LABEL_1 corresponds to clickbait\n",
    "    non_clickbait_label = \"LABEL_0\"  # Assuming LABEL_0 corresponds to non-clickbait\n",
    "\n",
    "    predicted_label = prediction[\"label\"]\n",
    "    predicted_score = prediction[\"score\"] * 100\n",
    "\n",
    "    clickbait_score = predicted_score if predicted_label == clickbait_label else 0\n",
    "    non_clickbait_score = predicted_score if predicted_label == non_clickbait_label else 0\n",
    "\n",
    "    return clickbait_score, non_clickbait_score\n",
    "\n",
    "# Example clickbait headline\n",
    "clickbait_example = [\"You'll Never Believe What This Dog Did Next!\"]\n",
    "\n",
    "# Example non-clickbait headline\n",
    "non_clickbait_example = [\"Local School Board Approves New Budget\"]\n",
    "\n",
    "# Combine into a list of examples\n",
    "examples = [clickbait_example, non_clickbait_example]\n",
    "\n",
    "# Create the Gradio interface\n",
    "iface = gr.Interface(\n",
    "    fn=classify_text,\n",
    "    inputs=[gr.Textbox(lines=2, placeholder=\"Enter a text headline...\")],\n",
    "    outputs=[\n",
    "        gr.Slider(label=\"Clickbait\", minimum=0, maximum=100, step=1),\n",
    "        gr.Slider(label=\"Non-Clickbait\", minimum=0, maximum=100, step=1),\n",
    "    ],\n",
    "    title=\"Clickbait Detector\",\n",
    "    examples=examples,\n",
    ")\n",
    "\n",
    "# Launch the interface\n",
    "iface.launch()"
   ]
  }
 ],
 "metadata": {
  "kernelspec": {
   "display_name": "llmops",
   "language": "python",
   "name": "python3"
  },
  "language_info": {
   "codemirror_mode": {
    "name": "ipython",
    "version": 3
   },
   "file_extension": ".py",
   "mimetype": "text/x-python",
   "name": "python",
   "nbconvert_exporter": "python",
   "pygments_lexer": "ipython3",
   "version": "3.11.5"
  }
 },
 "nbformat": 4,
 "nbformat_minor": 2
}
