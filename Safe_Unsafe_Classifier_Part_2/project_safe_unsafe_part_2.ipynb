{
 "cells": [
  {
   "cell_type": "markdown",
   "metadata": {},
   "source": [
    "# Project - LLM-Powered Safe-Unsafe Classifier\n",
    "\n",
    "Part 2: Use a moderation tool (e.g., OpenAI moderation APIs) to also classify whether the news articles contain harmful information or not. You also need to define what safe or unsafe is in your prompt. Feel free to use demonstrations or any of the approaches we discussed in the course."
   ]
  },
  {
   "cell_type": "code",
   "execution_count": 1,
   "metadata": {},
   "outputs": [],
   "source": [
    "import os\n",
    "import comet_llm\n",
    "\n",
    "from openai import OpenAI\n",
    "from dotenv import load_dotenv"
   ]
  },
  {
   "cell_type": "code",
   "execution_count": 2,
   "metadata": {},
   "outputs": [],
   "source": [
    "# Load Environment variable(s)\n",
    "load_dotenv()\n",
    "OPENAI_API_KEY = os.getenv(\"OPENAI_API_KEY\")\n",
    "os.environ[\"OPENAI_API_KEY\"] = OPENAI_API_KEY\n",
    "\n",
    "COMET_API_KEY = os.getenv(\"COMET_API_KEY\")\n",
    "os.environ[\"COMET_API_KEY\"] = COMET_API_KEY"
   ]
  },
  {
   "cell_type": "code",
   "execution_count": 3,
   "metadata": {},
   "outputs": [],
   "source": [
    "client = OpenAI(max_retries=5)"
   ]
  },
  {
   "cell_type": "code",
   "execution_count": 4,
   "metadata": {},
   "outputs": [],
   "source": [
    "def get_completion(messages, model=\"gpt-3.5-turbo-1106\", temperature=0, max_tokens=300):\n",
    "    response = client.chat.completions.create(\n",
    "        model=model,\n",
    "        messages=messages,\n",
    "        temperature=temperature,\n",
    "        max_tokens=max_tokens,\n",
    "    )\n",
    "    return response.choices[0].message.content"
   ]
  },
  {
   "cell_type": "markdown",
   "metadata": {},
   "source": [
    "# Check Moderation API from OpenAI"
   ]
  },
  {
   "cell_type": "code",
   "execution_count": 5,
   "metadata": {},
   "outputs": [],
   "source": [
    "from pprint import pprint\n",
    "\n",
    "\n",
    "def moderation(input):\n",
    "    response = client.moderations.create(input=input)\n",
    "    response_dict = response.model_dump()\n",
    "    pprint(response_dict)\n",
    "    is_flagged = response_dict['results'][0]['flagged']\n",
    "    return is_flagged"
   ]
  },
  {
   "cell_type": "code",
   "execution_count": 6,
   "metadata": {},
   "outputs": [
    {
     "name": "stdout",
     "output_type": "stream",
     "text": [
      "{'id': 'modr-8mZtey2fCztm593luu3RUoXpYBOeJ',\n",
      " 'model': 'text-moderation-007',\n",
      " 'results': [{'categories': {'harassment': False,\n",
      "                             'harassment/threatening': False,\n",
      "                             'harassment_threatening': False,\n",
      "                             'hate': False,\n",
      "                             'hate/threatening': False,\n",
      "                             'hate_threatening': False,\n",
      "                             'self-harm': False,\n",
      "                             'self-harm/instructions': False,\n",
      "                             'self-harm/intent': False,\n",
      "                             'self_harm': False,\n",
      "                             'self_harm_instructions': False,\n",
      "                             'self_harm_intent': False,\n",
      "                             'sexual': False,\n",
      "                             'sexual/minors': False,\n",
      "                             'sexual_minors': False,\n",
      "                             'violence': False,\n",
      "                             'violence/graphic': False,\n",
      "                             'violence_graphic': False},\n",
      "              'category_scores': {'harassment': 0.0007473446312360466,\n",
      "                                  'harassment/threatening': 0.000541489280294627,\n",
      "                                  'harassment_threatening': 0.000541489280294627,\n",
      "                                  'hate': 0.00012039577268296853,\n",
      "                                  'hate/threatening': 8.624372640042566e-06,\n",
      "                                  'hate_threatening': 8.624372640042566e-06,\n",
      "                                  'self-harm': 2.5876505560518126e-07,\n",
      "                                  'self-harm/instructions': 3.309036458176706e-07,\n",
      "                                  'self-harm/intent': 3.853403640619035e-08,\n",
      "                                  'self_harm': 2.5876505560518126e-07,\n",
      "                                  'self_harm_instructions': 3.309036458176706e-07,\n",
      "                                  'self_harm_intent': 3.853403640619035e-08,\n",
      "                                  'sexual': 1.6506075553479604e-05,\n",
      "                                  'sexual/minors': 1.691037141426932e-06,\n",
      "                                  'sexual_minors': 1.691037141426932e-06,\n",
      "                                  'violence': 0.05778834596276283,\n",
      "                                  'violence/graphic': 3.9442060369765386e-05,\n",
      "                                  'violence_graphic': 3.9442060369765386e-05},\n",
      "              'flagged': False}]}\n"
     ]
    },
    {
     "data": {
      "text/plain": [
       "False"
      ]
     },
     "execution_count": 6,
     "metadata": {},
     "output_type": "execute_result"
    }
   ],
   "source": [
    "moderation(input=\"To kill a mockingbird?\")"
   ]
  },
  {
   "cell_type": "markdown",
   "metadata": {},
   "source": [
    "# Classifier Prompt and Methods"
   ]
  },
  {
   "cell_type": "code",
   "execution_count": 7,
   "metadata": {},
   "outputs": [],
   "source": [
    "system_message = \"\"\"\n",
    "You are an excellent moderator, your task is to classify if a given text contains harmful, wrong, damage inducing, and risky information into 'Unsafe' category and the rest as 'Safe' category.\n",
    "The user input is delimited by ```\n",
    "\n",
    "Output: Safe | Unsafe\n",
    "\"\"\"\n",
    "\n",
    "user_message = \"\"\"\n",
    "Classify the following text: ```{user_input}```\n",
    "\"\"\""
   ]
  },
  {
   "cell_type": "code",
   "execution_count": 8,
   "metadata": {},
   "outputs": [],
   "source": [
    "def get_classifications(user_input):\n",
    "    message = [\n",
    "        {\n",
    "            'role': 'system',\n",
    "            'content': system_message\n",
    "        },\n",
    "        {\n",
    "            'role': 'user',\n",
    "            'content': user_message.format(user_input=user_input)\n",
    "        }\n",
    "    ]\n",
    "    return get_completion(message)"
   ]
  },
  {
   "cell_type": "markdown",
   "metadata": {},
   "source": [
    "# Classify the following headlines and log to Comet-LLM"
   ]
  },
  {
   "cell_type": "code",
   "execution_count": 9,
   "metadata": {},
   "outputs": [],
   "source": [
    "news_list = [\n",
    "    (\"How to Make Homemade Explosives!\", \"Unsafe\"),\n",
    "    (\"The Secret Art of Digital Hacking - A Guide!\", \"Unsafe\"),\n",
    "    (\"10 Easy Ways to Commit Fraud and Get Rich Quick!\", \"Unsafe\"),\n",
    "    (\"Why Vaccines are the Biggest Scam in Medical History!\", \"Unsafe\"),\n",
    "    (\"Join the Underground Rebellion Against Government Control!\", \"Unsafe\"),\n",
    "    (\"10 celebrities who hate each other - Number 5 will make you gasp!\", \"Potentially Unsafe\"),\n",
    "    (\"Experts reveal the truth about eating raw meat.\", \"Potentially Unsafe\"),\n",
    "    (\"The hidden dangers of everyday items in your home!\", \"Potentially Unsafe\"),\n",
    "    (\"The Untold Truth About the World's Secret Societies!\", \"Potentially Unsafe\")\n",
    "]"
   ]
  },
  {
   "cell_type": "code",
   "execution_count": null,
   "metadata": {},
   "outputs": [],
   "source": [
    "comet_llm.init(project=\"safe-unsafe-classifier-part-2\", api_key=COMET_API_KEY)\n",
    "\n",
    "for user_input in news_list:\n",
    "    comet_llm.log_prompt(\n",
    "        prompt=f\"{system_message}\",\n",
    "        prompt_template=f\"{user_message}\",\n",
    "        prompt_template_variables=f\"{user_input[0]}\",\n",
    "        tags=[\"gpt-3.5-turbo-1106\", \"safe-unsafe-part-2\"],\n",
    "        metadata = {\n",
    "            \"model_name\": \"gpt-3.5-turbo-1106\",\n",
    "            \"temperature\": 0,\n",
    "            \"expected_output\": user_input[1],\n",
    "        },\n",
    "        output = get_classifications(user_input),\n",
    "    )"
   ]
  },
  {
   "cell_type": "markdown",
   "metadata": {},
   "source": [
    "# Comet-LLM Dashboard"
   ]
  },
  {
   "cell_type": "markdown",
   "metadata": {},
   "source": [
    "Dashboard with User Feedback:\n",
    "\n",
    "- 1 - Actual == Expected\n",
    "\n",
    "- 0 - Actual != Expected\n",
    "\n",
    "![output](images/1-output-with-human-feedback.png)"
   ]
  }
 ],
 "metadata": {
  "kernelspec": {
   "display_name": "llmops",
   "language": "python",
   "name": "python3"
  },
  "language_info": {
   "codemirror_mode": {
    "name": "ipython",
    "version": 3
   },
   "file_extension": ".py",
   "mimetype": "text/x-python",
   "name": "python",
   "nbconvert_exporter": "python",
   "pygments_lexer": "ipython3",
   "version": "3.11.5"
  }
 },
 "nbformat": 4,
 "nbformat_minor": 2
}
